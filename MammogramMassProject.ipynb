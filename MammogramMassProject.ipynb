{
 "cells": [
  {
   "cell_type": "markdown",
   "metadata": {},
   "source": [
    "# Final Project\n",
    "\n",
    "## Predict whether a mammogram mass is benign or malignant\n",
    "\n",
    "\n",
    "\n",
    "This data contains 961 instances of masses detected in mammograms, and contains the following attributes:\n",
    "\n",
    "\n",
    "   1. BI-RADS assessment: 1 to 5 (ordinal)  \n",
    "   2. Age: patient's age in years (integer)\n",
    "   3. Shape: mass shape: round=1 oval=2 lobular=3 irregular=4 (nominal)\n",
    "   4. Margin: mass margin: circumscribed=1 microlobulated=2 obscured=3 ill-defined=4 spiculated=5 (nominal)\n",
    "   5. Density: mass density high=1 iso=2 low=3 fat-containing=4 (ordinal)\n",
    "   6. Severity: benign=0 or malignant=1 (binominal)\n",
    "   \n",
    "BI-RADS is an assesment of how confident the severity classification is; it is not a \"predictive\" attribute and so we will discard it. The age, shape, margin, and density attributes are the features that we will build our model with, and \"severity\" is the classification we will attempt to predict based on those attributes.\n",
    "\n",
    "Although \"shape\" and \"margin\" are nominal data types, which sklearn typically doesn't deal with well, they are close enough to ordinal that we shouldn't just discard them. The \"shape\" for example is ordered increasingly from round to irregular.\n",
    "\n",
    "A lot of unnecessary anguish and surgery arises from false positives arising from mammogram results. If we can build a better way to interpret them through supervised machine learning, it could improve a lot of lives.\n",
    "\n",
    "## Goals\n",
    "\n",
    "Apply several different supervised machine learning techniques to this data set, and see which one yields the highest accuracy as measured with K-Fold cross validation (K=10). Apply:\n",
    "\n",
    "* Decision tree\n",
    "* Random forest\n",
    "* KNN\n",
    "* Naive Bayes\n",
    "* SVM\n",
    "* Logistic Regression\n",
    "* And, as a bonus challenge, a neural network using Keras.\n",
    "\n",
    "The data needs to be cleaned; many rows contain missing data, and there may be erroneous data identifiable as outliers as well.\n",
    "\n",
    "\n"
   ]
  },
  {
   "cell_type": "markdown",
   "metadata": {},
   "source": [
    "## Let's begin: preparing the data\n",
    "\n",
    "Start by importing the mammographic_masses.data.txt file into a Pandas dataframe ."
   ]
  },
  {
   "cell_type": "code",
   "execution_count": 2,
   "metadata": {},
   "outputs": [
    {
     "data": {
      "text/html": [
       "<div>\n",
       "<style scoped>\n",
       "    .dataframe tbody tr th:only-of-type {\n",
       "        vertical-align: middle;\n",
       "    }\n",
       "\n",
       "    .dataframe tbody tr th {\n",
       "        vertical-align: top;\n",
       "    }\n",
       "\n",
       "    .dataframe thead th {\n",
       "        text-align: right;\n",
       "    }\n",
       "</style>\n",
       "<table border=\"1\" class=\"dataframe\">\n",
       "  <thead>\n",
       "    <tr style=\"text-align: right;\">\n",
       "      <th></th>\n",
       "      <th>BI-RADS</th>\n",
       "      <th>Age</th>\n",
       "      <th>Shape</th>\n",
       "      <th>Margin</th>\n",
       "      <th>Density</th>\n",
       "      <th>Severity</th>\n",
       "    </tr>\n",
       "  </thead>\n",
       "  <tbody>\n",
       "    <tr>\n",
       "      <th>0</th>\n",
       "      <td>5</td>\n",
       "      <td>67</td>\n",
       "      <td>3</td>\n",
       "      <td>5</td>\n",
       "      <td>3</td>\n",
       "      <td>1</td>\n",
       "    </tr>\n",
       "    <tr>\n",
       "      <th>1</th>\n",
       "      <td>4</td>\n",
       "      <td>43</td>\n",
       "      <td>1</td>\n",
       "      <td>1</td>\n",
       "      <td>?</td>\n",
       "      <td>1</td>\n",
       "    </tr>\n",
       "    <tr>\n",
       "      <th>2</th>\n",
       "      <td>5</td>\n",
       "      <td>58</td>\n",
       "      <td>4</td>\n",
       "      <td>5</td>\n",
       "      <td>3</td>\n",
       "      <td>1</td>\n",
       "    </tr>\n",
       "    <tr>\n",
       "      <th>3</th>\n",
       "      <td>4</td>\n",
       "      <td>28</td>\n",
       "      <td>1</td>\n",
       "      <td>1</td>\n",
       "      <td>3</td>\n",
       "      <td>0</td>\n",
       "    </tr>\n",
       "    <tr>\n",
       "      <th>4</th>\n",
       "      <td>5</td>\n",
       "      <td>74</td>\n",
       "      <td>1</td>\n",
       "      <td>5</td>\n",
       "      <td>?</td>\n",
       "      <td>1</td>\n",
       "    </tr>\n",
       "    <tr>\n",
       "      <th>5</th>\n",
       "      <td>4</td>\n",
       "      <td>65</td>\n",
       "      <td>1</td>\n",
       "      <td>?</td>\n",
       "      <td>3</td>\n",
       "      <td>0</td>\n",
       "    </tr>\n",
       "    <tr>\n",
       "      <th>6</th>\n",
       "      <td>4</td>\n",
       "      <td>70</td>\n",
       "      <td>?</td>\n",
       "      <td>?</td>\n",
       "      <td>3</td>\n",
       "      <td>0</td>\n",
       "    </tr>\n",
       "    <tr>\n",
       "      <th>7</th>\n",
       "      <td>5</td>\n",
       "      <td>42</td>\n",
       "      <td>1</td>\n",
       "      <td>?</td>\n",
       "      <td>3</td>\n",
       "      <td>0</td>\n",
       "    </tr>\n",
       "    <tr>\n",
       "      <th>8</th>\n",
       "      <td>5</td>\n",
       "      <td>57</td>\n",
       "      <td>1</td>\n",
       "      <td>5</td>\n",
       "      <td>3</td>\n",
       "      <td>1</td>\n",
       "    </tr>\n",
       "    <tr>\n",
       "      <th>9</th>\n",
       "      <td>5</td>\n",
       "      <td>60</td>\n",
       "      <td>?</td>\n",
       "      <td>5</td>\n",
       "      <td>1</td>\n",
       "      <td>1</td>\n",
       "    </tr>\n",
       "  </tbody>\n",
       "</table>\n",
       "</div>"
      ],
      "text/plain": [
       "  BI-RADS Age Shape Margin Density  Severity\n",
       "0       5  67     3      5       3         1\n",
       "1       4  43     1      1       ?         1\n",
       "2       5  58     4      5       3         1\n",
       "3       4  28     1      1       3         0\n",
       "4       5  74     1      5       ?         1\n",
       "5       4  65     1      ?       3         0\n",
       "6       4  70     ?      ?       3         0\n",
       "7       5  42     1      ?       3         0\n",
       "8       5  57     1      5       3         1\n",
       "9       5  60     ?      5       1         1"
      ]
     },
     "execution_count": 2,
     "metadata": {},
     "output_type": "execute_result"
    }
   ],
   "source": [
    "import pandas as pd\n",
    "col_names = ['BI-RADS','Age','Shape','Margin','Density','Severity']\n",
    "data = pd.read_csv(\"mammographic_masses.data.txt\",names=col_names)\n",
    "data.head(10)\n"
   ]
  },
  {
   "cell_type": "code",
   "execution_count": 3,
   "metadata": {},
   "outputs": [
    {
     "data": {
      "text/html": [
       "<div>\n",
       "<style scoped>\n",
       "    .dataframe tbody tr th:only-of-type {\n",
       "        vertical-align: middle;\n",
       "    }\n",
       "\n",
       "    .dataframe tbody tr th {\n",
       "        vertical-align: top;\n",
       "    }\n",
       "\n",
       "    .dataframe thead th {\n",
       "        text-align: right;\n",
       "    }\n",
       "</style>\n",
       "<table border=\"1\" class=\"dataframe\">\n",
       "  <thead>\n",
       "    <tr style=\"text-align: right;\">\n",
       "      <th></th>\n",
       "      <th>BI-RADS</th>\n",
       "      <th>Age</th>\n",
       "      <th>Shape</th>\n",
       "      <th>Margin</th>\n",
       "      <th>Density</th>\n",
       "      <th>Severity</th>\n",
       "    </tr>\n",
       "  </thead>\n",
       "  <tbody>\n",
       "    <tr>\n",
       "      <th>0</th>\n",
       "      <td>5</td>\n",
       "      <td>67</td>\n",
       "      <td>3</td>\n",
       "      <td>5</td>\n",
       "      <td>3</td>\n",
       "      <td>1</td>\n",
       "    </tr>\n",
       "    <tr>\n",
       "      <th>1</th>\n",
       "      <td>4</td>\n",
       "      <td>43</td>\n",
       "      <td>1</td>\n",
       "      <td>1</td>\n",
       "      <td>NaN</td>\n",
       "      <td>1</td>\n",
       "    </tr>\n",
       "    <tr>\n",
       "      <th>2</th>\n",
       "      <td>5</td>\n",
       "      <td>58</td>\n",
       "      <td>4</td>\n",
       "      <td>5</td>\n",
       "      <td>3</td>\n",
       "      <td>1</td>\n",
       "    </tr>\n",
       "    <tr>\n",
       "      <th>3</th>\n",
       "      <td>4</td>\n",
       "      <td>28</td>\n",
       "      <td>1</td>\n",
       "      <td>1</td>\n",
       "      <td>3</td>\n",
       "      <td>0</td>\n",
       "    </tr>\n",
       "    <tr>\n",
       "      <th>4</th>\n",
       "      <td>5</td>\n",
       "      <td>74</td>\n",
       "      <td>1</td>\n",
       "      <td>5</td>\n",
       "      <td>NaN</td>\n",
       "      <td>1</td>\n",
       "    </tr>\n",
       "    <tr>\n",
       "      <th>5</th>\n",
       "      <td>4</td>\n",
       "      <td>65</td>\n",
       "      <td>1</td>\n",
       "      <td>NaN</td>\n",
       "      <td>3</td>\n",
       "      <td>0</td>\n",
       "    </tr>\n",
       "    <tr>\n",
       "      <th>6</th>\n",
       "      <td>4</td>\n",
       "      <td>70</td>\n",
       "      <td>NaN</td>\n",
       "      <td>NaN</td>\n",
       "      <td>3</td>\n",
       "      <td>0</td>\n",
       "    </tr>\n",
       "    <tr>\n",
       "      <th>7</th>\n",
       "      <td>5</td>\n",
       "      <td>42</td>\n",
       "      <td>1</td>\n",
       "      <td>NaN</td>\n",
       "      <td>3</td>\n",
       "      <td>0</td>\n",
       "    </tr>\n",
       "    <tr>\n",
       "      <th>8</th>\n",
       "      <td>5</td>\n",
       "      <td>57</td>\n",
       "      <td>1</td>\n",
       "      <td>5</td>\n",
       "      <td>3</td>\n",
       "      <td>1</td>\n",
       "    </tr>\n",
       "    <tr>\n",
       "      <th>9</th>\n",
       "      <td>5</td>\n",
       "      <td>60</td>\n",
       "      <td>NaN</td>\n",
       "      <td>5</td>\n",
       "      <td>1</td>\n",
       "      <td>1</td>\n",
       "    </tr>\n",
       "  </tbody>\n",
       "</table>\n",
       "</div>"
      ],
      "text/plain": [
       "  BI-RADS Age Shape Margin Density  Severity\n",
       "0       5  67     3      5       3         1\n",
       "1       4  43     1      1     NaN         1\n",
       "2       5  58     4      5       3         1\n",
       "3       4  28     1      1       3         0\n",
       "4       5  74     1      5     NaN         1\n",
       "5       4  65     1    NaN       3         0\n",
       "6       4  70   NaN    NaN       3         0\n",
       "7       5  42     1    NaN       3         0\n",
       "8       5  57     1      5       3         1\n",
       "9       5  60   NaN      5       1         1"
      ]
     },
     "execution_count": 3,
     "metadata": {},
     "output_type": "execute_result"
    }
   ],
   "source": [
    "import numpy as np\n",
    "df = data.replace('?',np.nan)\n",
    "df.head(10)"
   ]
  },
  {
   "cell_type": "markdown",
   "metadata": {},
   "source": [
    "## Analysing the data"
   ]
  },
  {
   "cell_type": "code",
   "execution_count": 4,
   "metadata": {},
   "outputs": [
    {
     "name": "stdout",
     "output_type": "stream",
     "text": [
      "(961, 6)\n",
      "5766\n",
      "         Severity\n",
      "count  961.000000\n",
      "mean     0.463059\n",
      "std      0.498893\n",
      "min      0.000000\n",
      "25%      0.000000\n",
      "50%      0.000000\n",
      "75%      1.000000\n",
      "max      1.000000\n"
     ]
    }
   ],
   "source": [
    "print(df.shape)\n",
    "print(df.size)\n",
    "print(df.describe())"
   ]
  },
  {
   "cell_type": "code",
   "execution_count": 5,
   "metadata": {},
   "outputs": [
    {
     "name": "stdout",
     "output_type": "stream",
     "text": [
      "Benign 516\n",
      "Malignant 445\n"
     ]
    }
   ],
   "source": [
    "import seaborn as sns\n",
    "sns.countplot(df['Severity'],label='count')\n",
    "B,M = df['Severity'].value_counts()\n",
    "print(\"Benign\",B)\n",
    "print(\"Malignant\",M)"
   ]
  },
  {
   "cell_type": "code",
   "execution_count": 6,
   "metadata": {},
   "outputs": [
    {
     "name": "stdout",
     "output_type": "stream",
     "text": [
      "(830, 6)\n"
     ]
    },
    {
     "data": {
      "text/html": [
       "<div>\n",
       "<style scoped>\n",
       "    .dataframe tbody tr th:only-of-type {\n",
       "        vertical-align: middle;\n",
       "    }\n",
       "\n",
       "    .dataframe tbody tr th {\n",
       "        vertical-align: top;\n",
       "    }\n",
       "\n",
       "    .dataframe thead th {\n",
       "        text-align: right;\n",
       "    }\n",
       "</style>\n",
       "<table border=\"1\" class=\"dataframe\">\n",
       "  <thead>\n",
       "    <tr style=\"text-align: right;\">\n",
       "      <th></th>\n",
       "      <th>BI-RADS</th>\n",
       "      <th>Age</th>\n",
       "      <th>Shape</th>\n",
       "      <th>Margin</th>\n",
       "      <th>Density</th>\n",
       "      <th>Severity</th>\n",
       "    </tr>\n",
       "  </thead>\n",
       "  <tbody>\n",
       "    <tr>\n",
       "      <th>0</th>\n",
       "      <td>5</td>\n",
       "      <td>67</td>\n",
       "      <td>3</td>\n",
       "      <td>5</td>\n",
       "      <td>3</td>\n",
       "      <td>1</td>\n",
       "    </tr>\n",
       "    <tr>\n",
       "      <th>2</th>\n",
       "      <td>5</td>\n",
       "      <td>58</td>\n",
       "      <td>4</td>\n",
       "      <td>5</td>\n",
       "      <td>3</td>\n",
       "      <td>1</td>\n",
       "    </tr>\n",
       "    <tr>\n",
       "      <th>3</th>\n",
       "      <td>4</td>\n",
       "      <td>28</td>\n",
       "      <td>1</td>\n",
       "      <td>1</td>\n",
       "      <td>3</td>\n",
       "      <td>0</td>\n",
       "    </tr>\n",
       "    <tr>\n",
       "      <th>8</th>\n",
       "      <td>5</td>\n",
       "      <td>57</td>\n",
       "      <td>1</td>\n",
       "      <td>5</td>\n",
       "      <td>3</td>\n",
       "      <td>1</td>\n",
       "    </tr>\n",
       "    <tr>\n",
       "      <th>10</th>\n",
       "      <td>5</td>\n",
       "      <td>76</td>\n",
       "      <td>1</td>\n",
       "      <td>4</td>\n",
       "      <td>3</td>\n",
       "      <td>1</td>\n",
       "    </tr>\n",
       "  </tbody>\n",
       "</table>\n",
       "</div>"
      ],
      "text/plain": [
       "   BI-RADS Age Shape Margin Density  Severity\n",
       "0        5  67     3      5       3         1\n",
       "2        5  58     4      5       3         1\n",
       "3        4  28     1      1       3         0\n",
       "8        5  57     1      5       3         1\n",
       "10       5  76     1      4       3         1"
      ]
     },
     "execution_count": 6,
     "metadata": {},
     "output_type": "execute_result"
    }
   ],
   "source": [
    "dataset = df.dropna()\n",
    "print(dataset.shape)\n",
    "dataset.head()\n"
   ]
  },
  {
   "cell_type": "markdown",
   "metadata": {},
   "source": [
    "### Converting the data to Numpy Array"
   ]
  },
  {
   "cell_type": "code",
   "execution_count": 7,
   "metadata": {},
   "outputs": [
    {
     "name": "stdout",
     "output_type": "stream",
     "text": [
      "(830, 4)\n"
     ]
    },
    {
     "data": {
      "text/plain": [
       "array([['67', '3', '5', '3'],\n",
       "       ['58', '4', '5', '3'],\n",
       "       ['28', '1', '1', '3'],\n",
       "       ...,\n",
       "       ['64', '4', '5', '3'],\n",
       "       ['66', '4', '5', '3'],\n",
       "       ['62', '3', '3', '3']], dtype=object)"
      ]
     },
     "execution_count": 7,
     "metadata": {},
     "output_type": "execute_result"
    }
   ],
   "source": [
    "x = dataset.iloc[:,1:5]\n",
    "X = np.array(x)\n",
    "print(X.shape)\n",
    "X"
   ]
  },
  {
   "cell_type": "code",
   "execution_count": 8,
   "metadata": {},
   "outputs": [
    {
     "name": "stdout",
     "output_type": "stream",
     "text": [
      "(830,)\n"
     ]
    }
   ],
   "source": [
    "y = dataset.iloc[:,5]\n",
    "Y = np.array(y)  \n",
    "print(Y.shape)\n",
    "#print(Y)"
   ]
  },
  {
   "cell_type": "code",
   "execution_count": 9,
   "metadata": {},
   "outputs": [
    {
     "data": {
      "text/plain": [
       "array(['Age', 'Shape', 'Margin', 'Density', 'Severity'], dtype='<U8')"
      ]
     },
     "execution_count": 9,
     "metadata": {},
     "output_type": "execute_result"
    }
   ],
   "source": [
    "label_names= np.array(col_names[1:])\n",
    "label_names"
   ]
  },
  {
   "cell_type": "markdown",
   "metadata": {},
   "source": [
    "### Some of the models require the input data to be normalized, normalizing the attribute data. "
   ]
  },
  {
   "cell_type": "code",
   "execution_count": 10,
   "metadata": {},
   "outputs": [
    {
     "name": "stderr",
     "output_type": "stream",
     "text": [
      "C:\\ProgramData\\Anaconda3\\lib\\site-packages\\sklearn\\utils\\validation.py:595: DataConversionWarning: Data with input dtype object was converted to float64 by StandardScaler.\n",
      "  warnings.warn(msg, DataConversionWarning)\n",
      "C:\\ProgramData\\Anaconda3\\lib\\site-packages\\sklearn\\utils\\validation.py:595: DataConversionWarning: Data with input dtype object was converted to float64 by StandardScaler.\n",
      "  warnings.warn(msg, DataConversionWarning)\n"
     ]
    },
    {
     "data": {
      "text/plain": [
       "array([[ 0.7650629 ,  0.17563638,  1.39618483,  0.24046607],\n",
       "       [ 0.15127063,  0.98104077,  1.39618483,  0.24046607],\n",
       "       [-1.89470363, -1.43517241, -1.157718  ,  0.24046607],\n",
       "       ...,\n",
       "       [ 0.56046548,  0.98104077,  1.39618483,  0.24046607],\n",
       "       [ 0.69686376,  0.98104077,  1.39618483,  0.24046607],\n",
       "       [ 0.42406719,  0.17563638,  0.11923341,  0.24046607]])"
      ]
     },
     "execution_count": 10,
     "metadata": {},
     "output_type": "execute_result"
    }
   ],
   "source": [
    "from sklearn.preprocessing import StandardScaler\n",
    "sc = StandardScaler()\n",
    "x_norm = sc.fit_transform(X)\n",
    "x_norm"
   ]
  },
  {
   "cell_type": "code",
   "execution_count": null,
   "metadata": {},
   "outputs": [],
   "source": []
  },
  {
   "cell_type": "markdown",
   "metadata": {},
   "source": [
    "## Decision Trees\n",
    "\n",
    "Before moving to K-Fold cross validation and random forests, started creating a single train/test split of our data. Setting aside 75% for training, and 25% for testing."
   ]
  },
  {
   "cell_type": "code",
   "execution_count": 11,
   "metadata": {},
   "outputs": [
    {
     "name": "stdout",
     "output_type": "stream",
     "text": [
      "(622, 4)\n",
      "(622,)\n",
      "(208, 4)\n",
      "(208,)\n",
      "train data 0.75 %\n",
      "test data 0.25 %\n"
     ]
    }
   ],
   "source": [
    "from sklearn.model_selection import train_test_split\n",
    "x_train,x_test,y_train,y_test = train_test_split(X,Y,test_size=0.25)\n",
    "print(x_train.shape)\n",
    "print(y_train.shape)\n",
    "print(x_test.shape)\n",
    "print(y_test.shape)\n",
    "print(\"train data\",round(622/(622+208) ,2),\"%\")\n",
    "print(\"test data\", round(208/ (622+208),2),\"%\")      "
   ]
  },
  {
   "cell_type": "markdown",
   "metadata": {
    "collapsed": true
   },
   "source": [
    " Now create a DecisionTreeClassifier and fit it to your training data."
   ]
  },
  {
   "cell_type": "code",
   "execution_count": 12,
   "metadata": {},
   "outputs": [
    {
     "data": {
      "text/plain": [
       "DecisionTreeClassifier(class_weight=None, criterion='gini', max_depth=None,\n",
       "            max_features=None, max_leaf_nodes=None,\n",
       "            min_impurity_decrease=0.0, min_impurity_split=None,\n",
       "            min_samples_leaf=1, min_samples_split=2,\n",
       "            min_weight_fraction_leaf=0.0, presort=False, random_state=1,\n",
       "            splitter='best')"
      ]
     },
     "execution_count": 12,
     "metadata": {},
     "output_type": "execute_result"
    }
   ],
   "source": [
    "from sklearn.tree import DecisionTreeClassifier\n",
    "model = DecisionTreeClassifier(random_state=1)\n",
    "model.fit(x_train,y_train)"
   ]
  },
  {
   "cell_type": "markdown",
   "metadata": {},
   "source": [
    "Measure the accuracy of the resulting decision tree model using test data."
   ]
  },
  {
   "cell_type": "code",
   "execution_count": 14,
   "metadata": {},
   "outputs": [
    {
     "name": "stdout",
     "output_type": "stream",
     "text": [
      "Accuracy of dct is 0.7403846153846154\n",
      "Error 0.25961538461538464\n"
     ]
    }
   ],
   "source": [
    "from sklearn.metrics import *\n",
    "prediction = model.predict(x_test)\n",
    "print(\"Accuracy of dct is\",accuracy_score(prediction,y_test))\n",
    "print(\"Error\", mean_absolute_error(prediction,y_test))"
   ]
  },
  {
   "cell_type": "code",
   "execution_count": 15,
   "metadata": {},
   "outputs": [
    {
     "data": {
      "text/plain": [
       "0.7398533571722361"
      ]
     },
     "execution_count": 15,
     "metadata": {},
     "output_type": "execute_result"
    }
   ],
   "source": [
    "from sklearn.model_selection import cross_val_score\n",
    "cv = cross_val_score(model,x_train,y_train,cv=10)\n",
    "cv.mean()"
   ]
  },
  {
   "cell_type": "code",
   "execution_count": 16,
   "metadata": {},
   "outputs": [
    {
     "name": "stdout",
     "output_type": "stream",
     "text": [
      "Accuracy of rfc is 0.7451923076923077\n",
      "Error 0.2548076923076923\n"
     ]
    },
    {
     "data": {
      "text/plain": [
       "0.75915615320692"
      ]
     },
     "execution_count": 16,
     "metadata": {},
     "output_type": "execute_result"
    }
   ],
   "source": [
    "from sklearn.ensemble import RandomForestClassifier\n",
    "rfc = RandomForestClassifier(n_estimators=10,random_state=2)\n",
    "rfc.fit(x_train,y_train)\n",
    "prediction = rfc.predict(x_test)\n",
    "print(\"Accuracy of rfc is\",accuracy_score(prediction,y_test))\n",
    "print(\"Error\", mean_absolute_error(prediction,y_test))\n",
    "cv = cross_val_score(rfc,x_train,y_train,cv=10)\n",
    "cv.mean()"
   ]
  },
  {
   "cell_type": "markdown",
   "metadata": {},
   "source": []
  },
  {
   "cell_type": "markdown",
   "metadata": {},
   "source": [
    "## SVM"
   ]
  },
  {
   "cell_type": "code",
   "execution_count": 18,
   "metadata": {},
   "outputs": [
    {
     "name": "stdout",
     "output_type": "stream",
     "text": [
      "Accuracy of svm is 0.8221153846153846\n",
      "Error 0.1778846153846154\n"
     ]
    }
   ],
   "source": [
    "from sklearn import svm\n",
    "svm = svm.SVC(kernel='linear')\n",
    "svm.fit(x_train,y_train)\n",
    "prediction = svm.predict(x_test)\n",
    "print(\"Accuracy of svm is\",accuracy_score(prediction,y_test))\n",
    "print(\"Error\", mean_absolute_error(prediction,y_test))\n"
   ]
  },
  {
   "cell_type": "code",
   "execution_count": null,
   "metadata": {},
   "outputs": [],
   "source": []
  },
  {
   "cell_type": "markdown",
   "metadata": {},
   "source": [
    "## KNN "
   ]
  },
  {
   "cell_type": "code",
   "execution_count": 19,
   "metadata": {},
   "outputs": [
    {
     "name": "stdout",
     "output_type": "stream",
     "text": [
      "Accuracy of svm is 0.7596153846153846\n",
      "Error 0.2403846153846154\n"
     ]
    },
    {
     "data": {
      "text/plain": [
       "0.7943046846801474"
      ]
     },
     "execution_count": 19,
     "metadata": {},
     "output_type": "execute_result"
    }
   ],
   "source": [
    "from sklearn.neighbors import KNeighborsClassifier\n",
    "model = KNeighborsClassifier(n_neighbors=5)\n",
    "model.fit(x_train,y_train)\n",
    "prediction = model.predict(x_test)\n",
    "print(\"Accuracy of svm is\",accuracy_score(prediction,y_test))\n",
    "print(\"Error\", mean_absolute_error(prediction,y_test))\n",
    "\n",
    "cv = cross_val_score(model,x_train,y_train,cv=10)\n",
    "cv.mean()\n"
   ]
  },
  {
   "cell_type": "markdown",
   "metadata": {},
   "source": [
    "Choosing K is tricky, so  try different values of K. A loop to run KNN with K values ranging from 1 to 50 and see if K makes a substantial difference."
   ]
  },
  {
   "cell_type": "code",
   "execution_count": 20,
   "metadata": {},
   "outputs": [
    {
     "name": "stdout",
     "output_type": "stream",
     "text": [
      "1 0.7141211922808962\n",
      "2 0.7139898264964367\n",
      "3 0.7667556428529458\n",
      "4 0.7669885757934409\n",
      "5 0.7943046846801474\n",
      "6 0.7862393291531313\n",
      "7 0.7927685863698556\n",
      "8 0.7782524573375974\n",
      "9 0.7847561129158167\n",
      "10 0.7846784686023184\n",
      "11 0.7846537063617973\n",
      "12 0.7701879412085652\n",
      "13 0.7830408031359909\n",
      "14 0.7717232001208734\n",
      "15 0.7846545457597811\n",
      "16 0.7862145669126103\n",
      "17 0.7942799224396262\n",
      "18 0.7878018684999119\n",
      "19 0.7814014588736957\n",
      "20 0.7700334919795523\n",
      "21 0.7845496210118104\n",
      "22 0.7781236097470894\n",
      "23 0.7829887604609974\n",
      "24 0.7780724064700797\n",
      "25 0.7782276950970763\n",
      "26 0.7717232001208734\n",
      "27 0.7684709526327718\n",
      "28 0.7716455558073749\n",
      "29 0.770084695256562\n",
      "30 0.7699277278335978\n",
      "31 0.7683924689212897\n",
      "32 0.7699797705085912\n",
      "33 0.7699797705085912\n",
      "34 0.7747937179454895\n",
      "35 0.7731799753216992\n",
      "36 0.7635017165688768\n",
      "37 0.769901286797109\n",
      "38 0.769926888435614\n",
      "39 0.766726683622506\n",
      "40 0.7618623723065817\n",
      "41 0.7602494690807753\n",
      "42 0.7570492642676672\n",
      "43 0.76027507071928\n",
      "44 0.7602494690807753\n",
      "45 0.7618879739450864\n",
      "46 0.7570748659061721\n",
      "47 0.7603535544307622\n",
      "48 0.7587142101684672\n",
      "49 0.7603535544307622\n"
     ]
    }
   ],
   "source": [
    "for i in range(1,50):\n",
    "    model = KNeighborsClassifier(n_neighbors=i)\n",
    "    cv = cross_val_score(model,x_train,y_train,cv=10)\n",
    "    print(i,cv.mean())"
   ]
  },
  {
   "cell_type": "markdown",
   "metadata": {},
   "source": []
  },
  {
   "cell_type": "markdown",
   "metadata": {},
   "source": [
    "## Naive Bayes\n"
   ]
  },
  {
   "cell_type": "code",
   "execution_count": 21,
   "metadata": {},
   "outputs": [
    {
     "name": "stdout",
     "output_type": "stream",
     "text": [
      "Accuracy of svm is 0.7548076923076923\n",
      "Error 0.24519230769230768\n"
     ]
    },
    {
     "data": {
      "text/plain": [
       "0.7603535544307622"
      ]
     },
     "execution_count": 21,
     "metadata": {},
     "output_type": "execute_result"
    }
   ],
   "source": [
    "from sklearn.naive_bayes import MultinomialNB\n",
    "nb = MultinomialNB()\n",
    "nb.fit(x_train,y_train)\n",
    "prediction = nb.predict(x_test)\n",
    "print(\"Accuracy of svm is\",accuracy_score(prediction,y_test))\n",
    "print(\"Error\", mean_absolute_error(prediction,y_test))\n",
    "\n",
    "cv = cross_val_score(model,x_train,y_train,cv=10)\n",
    "cv.mean()"
   ]
  },
  {
   "cell_type": "code",
   "execution_count": null,
   "metadata": {},
   "outputs": [],
   "source": []
  },
  {
   "cell_type": "markdown",
   "metadata": {},
   "source": [
    "\n",
    "## Revisiting SVM\n"
   ]
  },
  {
   "cell_type": "code",
   "execution_count": 22,
   "metadata": {},
   "outputs": [
    {
     "name": "stdout",
     "output_type": "stream",
     "text": [
      "Accuracy of svm is 0.7980769230769231\n",
      "Error 0.20192307692307693\n"
     ]
    },
    {
     "name": "stderr",
     "output_type": "stream",
     "text": [
      "C:\\ProgramData\\Anaconda3\\lib\\site-packages\\sklearn\\svm\\base.py:196: FutureWarning: The default value of gamma will change from 'auto' to 'scale' in version 0.22 to account better for unscaled features. Set gamma explicitly to 'auto' or 'scale' to avoid this warning.\n",
      "  \"avoid this warning.\", FutureWarning)\n"
     ]
    }
   ],
   "source": [
    "from sklearn import svm\n",
    "svm = svm.SVC(kernel='rbf',C=1)\n",
    "svm.fit(x_train,y_train)\n",
    "prediction = svm.predict(x_test)\n",
    "print(\"Accuracy of svm is\",accuracy_score(prediction,y_test))\n",
    "print(\"Error\", mean_absolute_error(prediction,y_test))"
   ]
  },
  {
   "cell_type": "code",
   "execution_count": 23,
   "metadata": {},
   "outputs": [
    {
     "name": "stdout",
     "output_type": "stream",
     "text": [
      "Accuracy of svm is 0.47115384615384615\n",
      "Error 0.5288461538461539\n"
     ]
    },
    {
     "name": "stderr",
     "output_type": "stream",
     "text": [
      "C:\\ProgramData\\Anaconda3\\lib\\site-packages\\sklearn\\svm\\base.py:196: FutureWarning: The default value of gamma will change from 'auto' to 'scale' in version 0.22 to account better for unscaled features. Set gamma explicitly to 'auto' or 'scale' to avoid this warning.\n",
      "  \"avoid this warning.\", FutureWarning)\n"
     ]
    }
   ],
   "source": [
    "from sklearn import svm\n",
    "svm = svm.SVC(kernel='sigmoid',C=1)\n",
    "svm.fit(x_train,y_train)\n",
    "prediction = svm.predict(x_test)\n",
    "print(\"Accuracy of svm is\",accuracy_score(prediction,y_test))\n",
    "print(\"Error\", mean_absolute_error(prediction,y_test))"
   ]
  },
  {
   "cell_type": "code",
   "execution_count": null,
   "metadata": {},
   "outputs": [],
   "source": [
    "from sklearn import svm\n",
    "svm = svm.SVC(kernel='poly',C=1)\n",
    "svm.fit(x_train,y_train)\n",
    "prediction = svm.predict(x_test)\n",
    "print(\"Accuracy of svm is\",accuracy_score(prediction,y_test))\n",
    "print(\"Error\", mean_absolute_error(prediction,y_test))"
   ]
  },
  {
   "cell_type": "code",
   "execution_count": null,
   "metadata": {},
   "outputs": [],
   "source": [
    "\n"
   ]
  },
  {
   "cell_type": "markdown",
   "metadata": {},
   "source": [
    "## Logistic Regression"
   ]
  },
  {
   "cell_type": "code",
   "execution_count": 26,
   "metadata": {},
   "outputs": [
    {
     "name": "stderr",
     "output_type": "stream",
     "text": [
      "C:\\ProgramData\\Anaconda3\\lib\\site-packages\\sklearn\\linear_model\\logistic.py:433: FutureWarning: Default solver will be changed to 'lbfgs' in 0.22. Specify a solver to silence this warning.\n",
      "  FutureWarning)\n"
     ]
    },
    {
     "name": "stdout",
     "output_type": "stream",
     "text": [
      "Accuracy of svm is 0.7980769230769231\n",
      "Error 0.20192307692307693\n"
     ]
    },
    {
     "name": "stderr",
     "output_type": "stream",
     "text": [
      "C:\\ProgramData\\Anaconda3\\lib\\site-packages\\sklearn\\linear_model\\logistic.py:433: FutureWarning: Default solver will be changed to 'lbfgs' in 0.22. Specify a solver to silence this warning.\n",
      "  FutureWarning)\n",
      "C:\\ProgramData\\Anaconda3\\lib\\site-packages\\sklearn\\linear_model\\logistic.py:433: FutureWarning: Default solver will be changed to 'lbfgs' in 0.22. Specify a solver to silence this warning.\n",
      "  FutureWarning)\n",
      "C:\\ProgramData\\Anaconda3\\lib\\site-packages\\sklearn\\linear_model\\logistic.py:433: FutureWarning: Default solver will be changed to 'lbfgs' in 0.22. Specify a solver to silence this warning.\n",
      "  FutureWarning)\n",
      "C:\\ProgramData\\Anaconda3\\lib\\site-packages\\sklearn\\linear_model\\logistic.py:433: FutureWarning: Default solver will be changed to 'lbfgs' in 0.22. Specify a solver to silence this warning.\n",
      "  FutureWarning)\n",
      "C:\\ProgramData\\Anaconda3\\lib\\site-packages\\sklearn\\linear_model\\logistic.py:433: FutureWarning: Default solver will be changed to 'lbfgs' in 0.22. Specify a solver to silence this warning.\n",
      "  FutureWarning)\n",
      "C:\\ProgramData\\Anaconda3\\lib\\site-packages\\sklearn\\linear_model\\logistic.py:433: FutureWarning: Default solver will be changed to 'lbfgs' in 0.22. Specify a solver to silence this warning.\n",
      "  FutureWarning)\n",
      "C:\\ProgramData\\Anaconda3\\lib\\site-packages\\sklearn\\linear_model\\logistic.py:433: FutureWarning: Default solver will be changed to 'lbfgs' in 0.22. Specify a solver to silence this warning.\n",
      "  FutureWarning)\n",
      "C:\\ProgramData\\Anaconda3\\lib\\site-packages\\sklearn\\linear_model\\logistic.py:433: FutureWarning: Default solver will be changed to 'lbfgs' in 0.22. Specify a solver to silence this warning.\n",
      "  FutureWarning)\n",
      "C:\\ProgramData\\Anaconda3\\lib\\site-packages\\sklearn\\linear_model\\logistic.py:433: FutureWarning: Default solver will be changed to 'lbfgs' in 0.22. Specify a solver to silence this warning.\n",
      "  FutureWarning)\n",
      "C:\\ProgramData\\Anaconda3\\lib\\site-packages\\sklearn\\linear_model\\logistic.py:433: FutureWarning: Default solver will be changed to 'lbfgs' in 0.22. Specify a solver to silence this warning.\n",
      "  FutureWarning)\n"
     ]
    },
    {
     "data": {
      "text/plain": [
       "0.797556932168249"
      ]
     },
     "execution_count": 26,
     "metadata": {},
     "output_type": "execute_result"
    }
   ],
   "source": [
    "from sklearn.linear_model import LogisticRegression\n",
    "lr = LogisticRegression()\n",
    "lr.fit(x_train,y_train)\n",
    "prediction = lr.predict(x_test)\n",
    "print(\"Accuracy of svm is\",accuracy_score(prediction,y_test))\n",
    "print(\"Error\", mean_absolute_error(prediction,y_test))\n",
    "\n",
    "cv = cross_val_score(lr,x_train,y_train,cv=10)\n",
    "cv.mean()"
   ]
  },
  {
   "cell_type": "markdown",
   "metadata": {},
   "source": [
    "\n"
   ]
  },
  {
   "cell_type": "code",
   "execution_count": null,
   "metadata": {},
   "outputs": [],
   "source": []
  },
  {
   "cell_type": "markdown",
   "metadata": {},
   "source": [
    "\n",
    "##  ANN Neural Networks\n"
   ]
  },
  {
   "cell_type": "code",
   "execution_count": 27,
   "metadata": {},
   "outputs": [
    {
     "name": "stderr",
     "output_type": "stream",
     "text": [
      "Using TensorFlow backend.\n"
     ]
    }
   ],
   "source": [
    "import tensorflow\n",
    "import keras\n",
    "from keras.models import Sequential\n",
    "from keras.layers import Dense\n"
   ]
  },
  {
   "cell_type": "code",
   "execution_count": 28,
   "metadata": {},
   "outputs": [
    {
     "name": "stderr",
     "output_type": "stream",
     "text": [
      "C:\\ProgramData\\Anaconda3\\lib\\site-packages\\ipykernel_launcher.py:2: UserWarning: Update your `Dense` call to the Keras 2 API: `Dense(activation=\"relu\", input_dim=4, units=8, kernel_initializer=\"normal\")`\n",
      "  \n"
     ]
    },
    {
     "name": "stdout",
     "output_type": "stream",
     "text": [
      "WARNING:tensorflow:From C:\\ProgramData\\Anaconda3\\lib\\site-packages\\tensorflow\\python\\ops\\nn_impl.py:180: add_dispatch_support.<locals>.wrapper (from tensorflow.python.ops.array_ops) is deprecated and will be removed in a future version.\n",
      "Instructions for updating:\n",
      "Use tf.where in 2.0, which has the same broadcast rule as np.where\n"
     ]
    },
    {
     "name": "stderr",
     "output_type": "stream",
     "text": [
      "C:\\ProgramData\\Anaconda3\\lib\\site-packages\\ipykernel_launcher.py:3: UserWarning: Update your `Dense` call to the Keras 2 API: `Dense(activation=\"relu\", units=4, kernel_initializer=\"normal\")`\n",
      "  This is separate from the ipykernel package so we can avoid doing imports until\n",
      "C:\\ProgramData\\Anaconda3\\lib\\site-packages\\ipykernel_launcher.py:4: UserWarning: Update your `Dense` call to the Keras 2 API: `Dense(activation=\"sigmoid\", units=1, kernel_initializer=\"normal\")`\n",
      "  after removing the cwd from sys.path.\n"
     ]
    }
   ],
   "source": [
    "classifier = Sequential()\n",
    "classifier.add(Dense(output_dim =8 ,init = 'normal', activation = 'relu', input_dim =4 ))\n",
    "classifier.add(Dense(output_dim =4 ,init = 'normal', activation = 'relu' ))\n",
    "classifier.add(Dense(output_dim =1 ,init = 'normal', activation = 'sigmoid'))\n",
    "classifier.compile(optimizer = 'Adam',loss='binary_crossentropy',metrics=['accuracy'])\n",
    " "
   ]
  },
  {
   "cell_type": "code",
   "execution_count": 29,
   "metadata": {},
   "outputs": [
    {
     "name": "stderr",
     "output_type": "stream",
     "text": [
      "C:\\ProgramData\\Anaconda3\\lib\\site-packages\\ipykernel_launcher.py:1: UserWarning: The `nb_epoch` argument in `fit` has been renamed `epochs`.\n",
      "  \"\"\"Entry point for launching an IPython kernel.\n"
     ]
    },
    {
     "name": "stdout",
     "output_type": "stream",
     "text": [
      "WARNING:tensorflow:From C:\\ProgramData\\Anaconda3\\lib\\site-packages\\keras\\backend\\tensorflow_backend.py:422: The name tf.global_variables is deprecated. Please use tf.compat.v1.global_variables instead.\n",
      "\n",
      "Epoch 1/200\n",
      "622/622 [==============================] - 2s 3ms/step - loss: 0.6925 - accuracy: 0.4711\n",
      "Epoch 2/200\n",
      "622/622 [==============================] - 0s 56us/step - loss: 0.6917 - accuracy: 0.4711\n",
      "Epoch 3/200\n",
      "622/622 [==============================] - 0s 48us/step - loss: 0.6907 - accuracy: 0.4775\n",
      "Epoch 4/200\n",
      "622/622 [==============================] - 0s 51us/step - loss: 0.6896 - accuracy: 0.4775\n",
      "Epoch 5/200\n",
      "622/622 [==============================] - 0s 51us/step - loss: 0.6883 - accuracy: 0.4727\n",
      "Epoch 6/200\n",
      "622/622 [==============================] - 0s 47us/step - loss: 0.6867 - accuracy: 0.4759\n",
      "Epoch 7/200\n",
      "622/622 [==============================] - 0s 44us/step - loss: 0.6858 - accuracy: 0.4823\n",
      "Epoch 8/200\n",
      "622/622 [==============================] - 0s 40us/step - loss: 0.6842 - accuracy: 0.4952\n",
      "Epoch 9/200\n",
      "622/622 [==============================] - 0s 39us/step - loss: 0.6826 - accuracy: 0.5193\n",
      "Epoch 10/200\n",
      "622/622 [==============================] - 0s 60us/step - loss: 0.6806 - accuracy: 0.5048\n",
      "Epoch 11/200\n",
      "622/622 [==============================] - 0s 71us/step - loss: 0.6781 - accuracy: 0.4984\n",
      "Epoch 12/200\n",
      "622/622 [==============================] - 0s 82us/step - loss: 0.6752 - accuracy: 0.5225\n",
      "Epoch 13/200\n",
      "622/622 [==============================] - 0s 81us/step - loss: 0.6718 - accuracy: 0.5354\n",
      "Epoch 14/200\n",
      "622/622 [==============================] - 0s 58us/step - loss: 0.6675 - accuracy: 0.5579\n",
      "Epoch 15/200\n",
      "622/622 [==============================] - 0s 86us/step - loss: 0.6621 - accuracy: 0.6286\n",
      "Epoch 16/200\n",
      "622/622 [==============================] - 0s 53us/step - loss: 0.6566 - accuracy: 0.7267\n",
      "Epoch 17/200\n",
      "622/622 [==============================] - 0s 95us/step - loss: 0.6487 - accuracy: 0.7203\n",
      "Epoch 18/200\n",
      "622/622 [==============================] - 0s 88us/step - loss: 0.6423 - accuracy: 0.6672\n",
      "Epoch 19/200\n",
      "622/622 [==============================] - 0s 58us/step - loss: 0.6339 - accuracy: 0.7444\n",
      "Epoch 20/200\n",
      "622/622 [==============================] - 0s 67us/step - loss: 0.6247 - accuracy: 0.7395\n",
      "Epoch 21/200\n",
      "622/622 [==============================] - 0s 49us/step - loss: 0.6199 - accuracy: 0.7395\n",
      "Epoch 22/200\n",
      "622/622 [==============================] - 0s 49us/step - loss: 0.6117 - accuracy: 0.7492\n",
      "Epoch 23/200\n",
      "622/622 [==============================] - 0s 48us/step - loss: 0.6060 - accuracy: 0.7540\n",
      "Epoch 24/200\n",
      "622/622 [==============================] - 0s 52us/step - loss: 0.6016 - accuracy: 0.7717\n",
      "Epoch 25/200\n",
      "622/622 [==============================] - 0s 63us/step - loss: 0.5971 - accuracy: 0.7605\n",
      "Epoch 26/200\n",
      "622/622 [==============================] - 0s 75us/step - loss: 0.5937 - accuracy: 0.7717\n",
      "Epoch 27/200\n",
      "622/622 [==============================] - 0s 65us/step - loss: 0.5904 - accuracy: 0.7685\n",
      "Epoch 28/200\n",
      "622/622 [==============================] - 0s 75us/step - loss: 0.5874 - accuracy: 0.7653\n",
      "Epoch 29/200\n",
      "622/622 [==============================] - 0s 75us/step - loss: 0.5850 - accuracy: 0.7797\n",
      "Epoch 30/200\n",
      "622/622 [==============================] - 0s 73us/step - loss: 0.5818 - accuracy: 0.7781\n",
      "Epoch 31/200\n",
      "622/622 [==============================] - 0s 81us/step - loss: 0.5809 - accuracy: 0.7653\n",
      "Epoch 32/200\n",
      "622/622 [==============================] - 0s 70us/step - loss: 0.5789 - accuracy: 0.7830\n",
      "Epoch 33/200\n",
      "622/622 [==============================] - 0s 79us/step - loss: 0.5766 - accuracy: 0.7733\n",
      "Epoch 34/200\n",
      "622/622 [==============================] - 0s 75us/step - loss: 0.5731 - accuracy: 0.7797\n",
      "Epoch 35/200\n",
      "622/622 [==============================] - 0s 80us/step - loss: 0.5713 - accuracy: 0.7830\n",
      "Epoch 36/200\n",
      "622/622 [==============================] - 0s 73us/step - loss: 0.5692 - accuracy: 0.7814\n",
      "Epoch 37/200\n",
      "622/622 [==============================] - 0s 63us/step - loss: 0.5676 - accuracy: 0.7814\n",
      "Epoch 38/200\n",
      "622/622 [==============================] - 0s 76us/step - loss: 0.5663 - accuracy: 0.7846\n",
      "Epoch 39/200\n",
      "622/622 [==============================] - 0s 62us/step - loss: 0.5635 - accuracy: 0.7814\n",
      "Epoch 40/200\n",
      "622/622 [==============================] - 0s 77us/step - loss: 0.5655 - accuracy: 0.7749\n",
      "Epoch 41/200\n",
      "622/622 [==============================] - 0s 78us/step - loss: 0.5615 - accuracy: 0.7862\n",
      "Epoch 42/200\n",
      "622/622 [==============================] - 0s 72us/step - loss: 0.5578 - accuracy: 0.7814\n",
      "Epoch 43/200\n",
      "622/622 [==============================] - 0s 78us/step - loss: 0.5574 - accuracy: 0.7846\n",
      "Epoch 44/200\n",
      "622/622 [==============================] - 0s 75us/step - loss: 0.5554 - accuracy: 0.7894\n",
      "Epoch 45/200\n",
      "622/622 [==============================] - 0s 77us/step - loss: 0.5539 - accuracy: 0.7846\n",
      "Epoch 46/200\n",
      "622/622 [==============================] - 0s 65us/step - loss: 0.5525 - accuracy: 0.7894\n",
      "Epoch 47/200\n",
      "622/622 [==============================] - 0s 64us/step - loss: 0.5511 - accuracy: 0.7878\n",
      "Epoch 48/200\n",
      "622/622 [==============================] - 0s 60us/step - loss: 0.5491 - accuracy: 0.7846\n",
      "Epoch 49/200\n",
      "622/622 [==============================] - 0s 47us/step - loss: 0.5469 - accuracy: 0.7894\n",
      "Epoch 50/200\n",
      "622/622 [==============================] - 0s 74us/step - loss: 0.5465 - accuracy: 0.7894\n",
      "Epoch 51/200\n",
      "622/622 [==============================] - 0s 70us/step - loss: 0.5479 - accuracy: 0.7797\n",
      "Epoch 52/200\n",
      "622/622 [==============================] - 0s 74us/step - loss: 0.5427 - accuracy: 0.7878\n",
      "Epoch 53/200\n",
      "622/622 [==============================] - 0s 79us/step - loss: 0.5424 - accuracy: 0.7862\n",
      "Epoch 54/200\n",
      "622/622 [==============================] - 0s 70us/step - loss: 0.5398 - accuracy: 0.7894\n",
      "Epoch 55/200\n",
      "622/622 [==============================] - 0s 72us/step - loss: 0.5389 - accuracy: 0.7878\n",
      "Epoch 56/200\n",
      "622/622 [==============================] - 0s 78us/step - loss: 0.5379 - accuracy: 0.7894\n",
      "Epoch 57/200\n",
      "622/622 [==============================] - 0s 77us/step - loss: 0.5357 - accuracy: 0.7878\n",
      "Epoch 58/200\n",
      "622/622 [==============================] - 0s 76us/step - loss: 0.5348 - accuracy: 0.7878\n",
      "Epoch 59/200\n",
      "622/622 [==============================] - 0s 69us/step - loss: 0.5350 - accuracy: 0.7878\n",
      "Epoch 60/200\n",
      "622/622 [==============================] - 0s 72us/step - loss: 0.5316 - accuracy: 0.7894\n",
      "Epoch 61/200\n",
      "622/622 [==============================] - 0s 71us/step - loss: 0.5319 - accuracy: 0.7846\n",
      "Epoch 62/200\n",
      "622/622 [==============================] - 0s 64us/step - loss: 0.5297 - accuracy: 0.7894\n",
      "Epoch 63/200\n",
      "622/622 [==============================] - 0s 95us/step - loss: 0.5295 - accuracy: 0.7862\n",
      "Epoch 64/200\n",
      "622/622 [==============================] - 0s 72us/step - loss: 0.5279 - accuracy: 0.7894\n",
      "Epoch 65/200\n",
      "622/622 [==============================] - 0s 71us/step - loss: 0.5256 - accuracy: 0.7894\n",
      "Epoch 66/200\n",
      "622/622 [==============================] - 0s 55us/step - loss: 0.5247 - accuracy: 0.7894\n",
      "Epoch 67/200\n",
      "622/622 [==============================] - 0s 70us/step - loss: 0.5253 - accuracy: 0.7878\n",
      "Epoch 68/200\n",
      "622/622 [==============================] - 0s 53us/step - loss: 0.5226 - accuracy: 0.7878\n",
      "Epoch 69/200\n",
      "622/622 [==============================] - 0s 96us/step - loss: 0.5223 - accuracy: 0.7878\n",
      "Epoch 70/200\n",
      "622/622 [==============================] - 0s 78us/step - loss: 0.5198 - accuracy: 0.7894\n",
      "Epoch 71/200\n",
      "622/622 [==============================] - 0s 67us/step - loss: 0.5184 - accuracy: 0.7894\n",
      "Epoch 72/200\n",
      "622/622 [==============================] - 0s 67us/step - loss: 0.5181 - accuracy: 0.7878\n",
      "Epoch 73/200\n",
      "622/622 [==============================] - 0s 70us/step - loss: 0.5172 - accuracy: 0.7878\n",
      "Epoch 74/200\n",
      "622/622 [==============================] - 0s 49us/step - loss: 0.5158 - accuracy: 0.7894\n",
      "Epoch 75/200\n",
      "622/622 [==============================] - 0s 85us/step - loss: 0.5142 - accuracy: 0.7878\n",
      "Epoch 76/200\n",
      "622/622 [==============================] - 0s 87us/step - loss: 0.5140 - accuracy: 0.7878\n",
      "Epoch 77/200\n",
      "622/622 [==============================] - 0s 66us/step - loss: 0.5131 - accuracy: 0.7894\n",
      "Epoch 78/200\n"
     ]
    },
    {
     "name": "stdout",
     "output_type": "stream",
     "text": [
      "622/622 [==============================] - 0s 67us/step - loss: 0.5118 - accuracy: 0.7894\n",
      "Epoch 79/200\n",
      "622/622 [==============================] - 0s 71us/step - loss: 0.5116 - accuracy: 0.7878\n",
      "Epoch 80/200\n",
      "622/622 [==============================] - 0s 84us/step - loss: 0.5099 - accuracy: 0.7878\n",
      "Epoch 81/200\n",
      "622/622 [==============================] - 0s 75us/step - loss: 0.5139 - accuracy: 0.8006\n",
      "Epoch 82/200\n",
      "622/622 [==============================] - 0s 90us/step - loss: 0.5107 - accuracy: 0.7862\n",
      "Epoch 83/200\n",
      "622/622 [==============================] - 0s 75us/step - loss: 0.5078 - accuracy: 0.7878\n",
      "Epoch 84/200\n",
      "622/622 [==============================] - 0s 87us/step - loss: 0.5067 - accuracy: 0.7942\n",
      "Epoch 85/200\n",
      "622/622 [==============================] - 0s 80us/step - loss: 0.5082 - accuracy: 0.7846\n",
      "Epoch 86/200\n",
      "622/622 [==============================] - 0s 55us/step - loss: 0.5090 - accuracy: 0.8006\n",
      "Epoch 87/200\n",
      "622/622 [==============================] - 0s 51us/step - loss: 0.5039 - accuracy: 0.7958\n",
      "Epoch 88/200\n",
      "622/622 [==============================] - 0s 86us/step - loss: 0.5050 - accuracy: 0.7926\n",
      "Epoch 89/200\n",
      "622/622 [==============================] - 0s 76us/step - loss: 0.5020 - accuracy: 0.7910\n",
      "Epoch 90/200\n",
      "622/622 [==============================] - 0s 86us/step - loss: 0.5025 - accuracy: 0.7926\n",
      "Epoch 91/200\n",
      "622/622 [==============================] - 0s 52us/step - loss: 0.5018 - accuracy: 0.7910\n",
      "Epoch 92/200\n",
      "622/622 [==============================] - 0s 75us/step - loss: 0.5010 - accuracy: 0.7926\n",
      "Epoch 93/200\n",
      "622/622 [==============================] - 0s 56us/step - loss: 0.4982 - accuracy: 0.7958\n",
      "Epoch 94/200\n",
      "622/622 [==============================] - 0s 92us/step - loss: 0.4993 - accuracy: 0.7862\n",
      "Epoch 95/200\n",
      "622/622 [==============================] - 0s 74us/step - loss: 0.4981 - accuracy: 0.7958\n",
      "Epoch 96/200\n",
      "622/622 [==============================] - 0s 69us/step - loss: 0.4959 - accuracy: 0.7910\n",
      "Epoch 97/200\n",
      "622/622 [==============================] - 0s 78us/step - loss: 0.4980 - accuracy: 0.7894\n",
      "Epoch 98/200\n",
      "622/622 [==============================] - 0s 78us/step - loss: 0.4956 - accuracy: 0.7958\n",
      "Epoch 99/200\n",
      "622/622 [==============================] - 0s 72us/step - loss: 0.4938 - accuracy: 0.7942\n",
      "Epoch 100/200\n",
      "622/622 [==============================] - 0s 72us/step - loss: 0.4957 - accuracy: 0.7926\n",
      "Epoch 101/200\n",
      "622/622 [==============================] - 0s 46us/step - loss: 0.4938 - accuracy: 0.8071\n",
      "Epoch 102/200\n",
      "622/622 [==============================] - 0s 54us/step - loss: 0.4932 - accuracy: 0.7942\n",
      "Epoch 103/200\n",
      "622/622 [==============================] - 0s 49us/step - loss: 0.4912 - accuracy: 0.7974\n",
      "Epoch 104/200\n",
      "622/622 [==============================] - 0s 66us/step - loss: 0.4903 - accuracy: 0.7958\n",
      "Epoch 105/200\n",
      "622/622 [==============================] - 0s 82us/step - loss: 0.4916 - accuracy: 0.7942\n",
      "Epoch 106/200\n",
      "622/622 [==============================] - 0s 72us/step - loss: 0.4898 - accuracy: 0.7974\n",
      "Epoch 107/200\n",
      "622/622 [==============================] - 0s 74us/step - loss: 0.4897 - accuracy: 0.7990\n",
      "Epoch 108/200\n",
      "622/622 [==============================] - 0s 75us/step - loss: 0.4892 - accuracy: 0.7926\n",
      "Epoch 109/200\n",
      "622/622 [==============================] - 0s 71us/step - loss: 0.4876 - accuracy: 0.7910\n",
      "Epoch 110/200\n",
      "622/622 [==============================] - 0s 68us/step - loss: 0.4868 - accuracy: 0.7958\n",
      "Epoch 111/200\n",
      "622/622 [==============================] - 0s 94us/step - loss: 0.4868 - accuracy: 0.7910\n",
      "Epoch 112/200\n",
      "622/622 [==============================] - 0s 80us/step - loss: 0.4858 - accuracy: 0.7942\n",
      "Epoch 113/200\n",
      "622/622 [==============================] - 0s 85us/step - loss: 0.4854 - accuracy: 0.7926\n",
      "Epoch 114/200\n",
      "622/622 [==============================] - 0s 76us/step - loss: 0.4846 - accuracy: 0.7990\n",
      "Epoch 115/200\n",
      "622/622 [==============================] - 0s 74us/step - loss: 0.4867 - accuracy: 0.8135\n",
      "Epoch 116/200\n",
      "622/622 [==============================] - 0s 76us/step - loss: 0.4843 - accuracy: 0.7926\n",
      "Epoch 117/200\n",
      "622/622 [==============================] - 0s 72us/step - loss: 0.4853 - accuracy: 0.7990\n",
      "Epoch 118/200\n",
      "622/622 [==============================] - 0s 73us/step - loss: 0.4846 - accuracy: 0.7926\n",
      "Epoch 119/200\n",
      "622/622 [==============================] - 0s 70us/step - loss: 0.4830 - accuracy: 0.8006\n",
      "Epoch 120/200\n",
      "622/622 [==============================] - 0s 73us/step - loss: 0.4814 - accuracy: 0.7958\n",
      "Epoch 121/200\n",
      "622/622 [==============================] - 0s 74us/step - loss: 0.4844 - accuracy: 0.8023\n",
      "Epoch 122/200\n",
      "622/622 [==============================] - 0s 76us/step - loss: 0.4835 - accuracy: 0.7942\n",
      "Epoch 123/200\n",
      "622/622 [==============================] - 0s 75us/step - loss: 0.4831 - accuracy: 0.8055\n",
      "Epoch 124/200\n",
      "622/622 [==============================] - 0s 71us/step - loss: 0.4831 - accuracy: 0.7958\n",
      "Epoch 125/200\n",
      "622/622 [==============================] - 0s 63us/step - loss: 0.4797 - accuracy: 0.8006\n",
      "Epoch 126/200\n",
      "622/622 [==============================] - 0s 84us/step - loss: 0.4800 - accuracy: 0.7942\n",
      "Epoch 127/200\n",
      "622/622 [==============================] - 0s 51us/step - loss: 0.4806 - accuracy: 0.8103\n",
      "Epoch 128/200\n",
      "622/622 [==============================] - 0s 68us/step - loss: 0.4775 - accuracy: 0.8023\n",
      "Epoch 129/200\n",
      "622/622 [==============================] - 0s 50us/step - loss: 0.4798 - accuracy: 0.7958\n",
      "Epoch 130/200\n",
      "622/622 [==============================] - 0s 55us/step - loss: 0.4829 - accuracy: 0.8087\n",
      "Epoch 131/200\n",
      "622/622 [==============================] - 0s 92us/step - loss: 0.4765 - accuracy: 0.8006\n",
      "Epoch 132/200\n",
      "622/622 [==============================] - 0s 55us/step - loss: 0.4794 - accuracy: 0.7910\n",
      "Epoch 133/200\n",
      "622/622 [==============================] - 0s 69us/step - loss: 0.4788 - accuracy: 0.8103\n",
      "Epoch 134/200\n",
      "622/622 [==============================] - 0s 60us/step - loss: 0.4788 - accuracy: 0.7910\n",
      "Epoch 135/200\n",
      "622/622 [==============================] - 0s 92us/step - loss: 0.4757 - accuracy: 0.7974\n",
      "Epoch 136/200\n",
      "622/622 [==============================] - 0s 81us/step - loss: 0.4765 - accuracy: 0.8039\n",
      "Epoch 137/200\n",
      "622/622 [==============================] - 0s 73us/step - loss: 0.4779 - accuracy: 0.7942\n",
      "Epoch 138/200\n",
      "622/622 [==============================] - 0s 56us/step - loss: 0.4748 - accuracy: 0.8006\n",
      "Epoch 139/200\n",
      "622/622 [==============================] - 0s 51us/step - loss: 0.4741 - accuracy: 0.8055\n",
      "Epoch 140/200\n",
      "622/622 [==============================] - 0s 69us/step - loss: 0.4768 - accuracy: 0.7910\n",
      "Epoch 141/200\n",
      "622/622 [==============================] - 0s 73us/step - loss: 0.4744 - accuracy: 0.8006\n",
      "Epoch 142/200\n",
      "622/622 [==============================] - 0s 53us/step - loss: 0.4736 - accuracy: 0.8023\n",
      "Epoch 143/200\n",
      "622/622 [==============================] - 0s 59us/step - loss: 0.4730 - accuracy: 0.8039\n",
      "Epoch 144/200\n",
      "622/622 [==============================] - 0s 100us/step - loss: 0.4736 - accuracy: 0.8087\n",
      "Epoch 145/200\n",
      "622/622 [==============================] - 0s 94us/step - loss: 0.4740 - accuracy: 0.7990\n",
      "Epoch 146/200\n",
      "622/622 [==============================] - 0s 84us/step - loss: 0.4720 - accuracy: 0.8087\n",
      "Epoch 147/200\n",
      "622/622 [==============================] - 0s 71us/step - loss: 0.4719 - accuracy: 0.8055\n",
      "Epoch 148/200\n",
      "622/622 [==============================] - 0s 56us/step - loss: 0.4761 - accuracy: 0.7926\n",
      "Epoch 149/200\n",
      "622/622 [==============================] - 0s 48us/step - loss: 0.4730 - accuracy: 0.7974\n",
      "Epoch 150/200\n",
      "622/622 [==============================] - 0s 43us/step - loss: 0.4701 - accuracy: 0.8006\n",
      "Epoch 151/200\n",
      "622/622 [==============================] - 0s 61us/step - loss: 0.4711 - accuracy: 0.7974\n",
      "Epoch 152/200\n",
      "622/622 [==============================] - 0s 93us/step - loss: 0.4698 - accuracy: 0.8071\n",
      "Epoch 153/200\n",
      "622/622 [==============================] - 0s 58us/step - loss: 0.4718 - accuracy: 0.8055\n",
      "Epoch 154/200\n",
      "622/622 [==============================] - 0s 74us/step - loss: 0.4740 - accuracy: 0.7990\n",
      "Epoch 155/200\n",
      "622/622 [==============================] - 0s 96us/step - loss: 0.4692 - accuracy: 0.7990\n",
      "Epoch 156/200\n",
      "622/622 [==============================] - 0s 67us/step - loss: 0.4686 - accuracy: 0.8103\n",
      "Epoch 157/200\n"
     ]
    },
    {
     "name": "stdout",
     "output_type": "stream",
     "text": [
      "622/622 [==============================] - 0s 66us/step - loss: 0.4699 - accuracy: 0.8006\n",
      "Epoch 158/200\n",
      "622/622 [==============================] - 0s 95us/step - loss: 0.4682 - accuracy: 0.8119\n",
      "Epoch 159/200\n",
      "622/622 [==============================] - 0s 54us/step - loss: 0.4687 - accuracy: 0.8023\n",
      "Epoch 160/200\n",
      "622/622 [==============================] - 0s 91us/step - loss: 0.4680 - accuracy: 0.8006\n",
      "Epoch 161/200\n",
      "622/622 [==============================] - 0s 64us/step - loss: 0.4677 - accuracy: 0.8103\n",
      "Epoch 162/200\n",
      "622/622 [==============================] - 0s 75us/step - loss: 0.4678 - accuracy: 0.8071\n",
      "Epoch 163/200\n",
      "622/622 [==============================] - 0s 50us/step - loss: 0.4684 - accuracy: 0.8103\n",
      "Epoch 164/200\n",
      "622/622 [==============================] - 0s 49us/step - loss: 0.4678 - accuracy: 0.8103\n",
      "Epoch 165/200\n",
      "622/622 [==============================] - 0s 49us/step - loss: 0.4670 - accuracy: 0.8071\n",
      "Epoch 166/200\n",
      "622/622 [==============================] - 0s 54us/step - loss: 0.4670 - accuracy: 0.8006\n",
      "Epoch 167/200\n",
      "622/622 [==============================] - 0s 70us/step - loss: 0.4679 - accuracy: 0.8006\n",
      "Epoch 168/200\n",
      "622/622 [==============================] - 0s 54us/step - loss: 0.4697 - accuracy: 0.8055\n",
      "Epoch 169/200\n",
      "622/622 [==============================] - 0s 93us/step - loss: 0.4660 - accuracy: 0.8039\n",
      "Epoch 170/200\n",
      "622/622 [==============================] - 0s 53us/step - loss: 0.4658 - accuracy: 0.8039\n",
      "Epoch 171/200\n",
      "622/622 [==============================] - 0s 58us/step - loss: 0.4664 - accuracy: 0.8055\n",
      "Epoch 172/200\n",
      "622/622 [==============================] - 0s 92us/step - loss: 0.4665 - accuracy: 0.8006\n",
      "Epoch 173/200\n",
      "622/622 [==============================] - 0s 53us/step - loss: 0.4648 - accuracy: 0.8023\n",
      "Epoch 174/200\n",
      "622/622 [==============================] - 0s 55us/step - loss: 0.4643 - accuracy: 0.8119\n",
      "Epoch 175/200\n",
      "622/622 [==============================] - 0s 67us/step - loss: 0.4658 - accuracy: 0.8023\n",
      "Epoch 176/200\n",
      "622/622 [==============================] - 0s 69us/step - loss: 0.4654 - accuracy: 0.8055\n",
      "Epoch 177/200\n",
      "622/622 [==============================] - 0s 60us/step - loss: 0.4660 - accuracy: 0.8023\n",
      "Epoch 178/200\n",
      "622/622 [==============================] - ETA: 0s - loss: 0.4329 - accuracy: 0.78 - 0s 42us/step - loss: 0.4646 - accuracy: 0.8055\n",
      "Epoch 179/200\n",
      "622/622 [==============================] - 0s 67us/step - loss: 0.4644 - accuracy: 0.8039\n",
      "Epoch 180/200\n",
      "622/622 [==============================] - 0s 83us/step - loss: 0.4621 - accuracy: 0.8087\n",
      "Epoch 181/200\n",
      "622/622 [==============================] - 0s 49us/step - loss: 0.4681 - accuracy: 0.7990\n",
      "Epoch 182/200\n",
      "622/622 [==============================] - 0s 51us/step - loss: 0.4643 - accuracy: 0.8006\n",
      "Epoch 183/200\n",
      "622/622 [==============================] - 0s 47us/step - loss: 0.4648 - accuracy: 0.7974\n",
      "Epoch 184/200\n",
      "622/622 [==============================] - 0s 52us/step - loss: 0.4624 - accuracy: 0.8055\n",
      "Epoch 185/200\n",
      "622/622 [==============================] - 0s 50us/step - loss: 0.4632 - accuracy: 0.8023\n",
      "Epoch 186/200\n",
      "622/622 [==============================] - 0s 76us/step - loss: 0.4620 - accuracy: 0.8071\n",
      "Epoch 187/200\n",
      "622/622 [==============================] - 0s 56us/step - loss: 0.4652 - accuracy: 0.8039\n",
      "Epoch 188/200\n",
      "622/622 [==============================] - 0s 57us/step - loss: 0.4625 - accuracy: 0.8119\n",
      "Epoch 189/200\n",
      "622/622 [==============================] - 0s 69us/step - loss: 0.4631 - accuracy: 0.8055\n",
      "Epoch 190/200\n",
      "622/622 [==============================] - 0s 53us/step - loss: 0.4642 - accuracy: 0.8087\n",
      "Epoch 191/200\n",
      "622/622 [==============================] - 0s 69us/step - loss: 0.4612 - accuracy: 0.8055\n",
      "Epoch 192/200\n",
      "622/622 [==============================] - 0s 58us/step - loss: 0.4627 - accuracy: 0.8087\n",
      "Epoch 193/200\n",
      "622/622 [==============================] - 0s 86us/step - loss: 0.4617 - accuracy: 0.8071\n",
      "Epoch 194/200\n",
      "622/622 [==============================] - 0s 77us/step - loss: 0.4621 - accuracy: 0.8103\n",
      "Epoch 195/200\n",
      "622/622 [==============================] - 0s 64us/step - loss: 0.4634 - accuracy: 0.8023\n",
      "Epoch 196/200\n",
      "622/622 [==============================] - 0s 51us/step - loss: 0.4616 - accuracy: 0.8071\n",
      "Epoch 197/200\n",
      "622/622 [==============================] - 0s 79us/step - loss: 0.4611 - accuracy: 0.8055\n",
      "Epoch 198/200\n",
      "622/622 [==============================] - ETA: 0s - loss: 0.5181 - accuracy: 0.78 - 0s 46us/step - loss: 0.4635 - accuracy: 0.7990\n",
      "Epoch 199/200\n",
      "622/622 [==============================] - 0s 60us/step - loss: 0.4620 - accuracy: 0.8039\n",
      "Epoch 200/200\n",
      "622/622 [==============================] - 0s 47us/step - loss: 0.4610 - accuracy: 0.8039\n"
     ]
    },
    {
     "data": {
      "text/plain": [
       "<keras.callbacks.callbacks.History at 0x276c7cace80>"
      ]
     },
     "execution_count": 29,
     "metadata": {},
     "output_type": "execute_result"
    }
   ],
   "source": [
    "classifier.fit(x_train,y_train,batch_size=60,nb_epoch=200)"
   ]
  },
  {
   "cell_type": "markdown",
   "metadata": {},
   "source": [
    "\n",
    "\n"
   ]
  },
  {
   "cell_type": "code",
   "execution_count": 30,
   "metadata": {},
   "outputs": [
    {
     "data": {
      "text/plain": [
       "[0.5063044520524832, 0.7836538553237915]"
      ]
     },
     "execution_count": 30,
     "metadata": {},
     "output_type": "execute_result"
    }
   ],
   "source": [
    "score=classifier.evaluate(x_test,y_test,verbose=0)\n",
    "score"
   ]
  },
  {
   "cell_type": "code",
   "execution_count": null,
   "metadata": {},
   "outputs": [],
   "source": []
  },
  {
   "cell_type": "code",
   "execution_count": null,
   "metadata": {},
   "outputs": [],
   "source": []
  },
  {
   "cell_type": "markdown",
   "metadata": {},
   "source": [
    "\n",
    "\n"
   ]
  },
  {
   "cell_type": "code",
   "execution_count": 50,
   "metadata": {},
   "outputs": [],
   "source": []
  },
  {
   "cell_type": "code",
   "execution_count": null,
   "metadata": {},
   "outputs": [],
   "source": []
  },
  {
   "cell_type": "code",
   "execution_count": null,
   "metadata": {},
   "outputs": [],
   "source": []
  },
  {
   "cell_type": "code",
   "execution_count": null,
   "metadata": {},
   "outputs": [],
   "source": []
  },
  {
   "cell_type": "code",
   "execution_count": null,
   "metadata": {},
   "outputs": [],
   "source": []
  },
  {
   "cell_type": "markdown",
   "metadata": {
    "collapsed": true
   },
   "source": []
  },
  {
   "cell_type": "code",
   "execution_count": null,
   "metadata": {},
   "outputs": [],
   "source": []
  },
  {
   "cell_type": "code",
   "execution_count": null,
   "metadata": {},
   "outputs": [],
   "source": []
  }
 ],
 "metadata": {
  "kernelspec": {
   "display_name": "Python 3",
   "language": "python",
   "name": "python3"
  },
  "language_info": {
   "codemirror_mode": {
    "name": "ipython",
    "version": 3
   },
   "file_extension": ".py",
   "mimetype": "text/x-python",
   "name": "python",
   "nbconvert_exporter": "python",
   "pygments_lexer": "ipython3",
   "version": "3.7.3"
  }
 },
 "nbformat": 4,
 "nbformat_minor": 2
}
